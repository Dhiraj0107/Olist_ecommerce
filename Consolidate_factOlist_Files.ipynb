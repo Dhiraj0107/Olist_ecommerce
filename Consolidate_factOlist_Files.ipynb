{
 "cells": [
  {
   "cell_type": "code",
   "execution_count": 1,
   "id": "b7e6d928",
   "metadata": {},
   "outputs": [],
   "source": [
    "import os\n",
    "import pandas as pd\n",
    "\n",
    "# Directory of CSV files\n",
    "directory = r'C:\\Users\\Dhiraj\\Downloads\\My Projects\\Azure and Databricks\\Copy of data-after-etl\\factOlist'\n",
    "\n",
    "# Output file path\n",
    "output_file = r'C:\\Users\\Dhiraj\\Downloads\\My Projects\\Azure and Databricks\\Copy of data-after-etl\\factOlist_Consolidated\\factOlist.csv'\n",
    "\n",
    "# Initialized an empty list to store the data frames\n",
    "dfs = []\n",
    "\n",
    "# Looping through each CSV file, read its content, and append it to the dfs list\n",
    "for file in os.listdir(directory):\n",
    "    if file.endswith(\".csv\"):\n",
    "        file_path = os.path.join(directory, file)\n",
    "        df = pd.read_csv(file_path)\n",
    "        dfs.append(df)\n",
    "\n",
    "# Concatenated all data frames into a single data frame\n",
    "consolidated_df = pd.concat(dfs, ignore_index=True)\n",
    "\n",
    "# Exported the consolidated data frame to a single CSV file\n",
    "consolidated_df.to_csv(output_file, index=False)\n"
   ]
  }
 ],
 "metadata": {
  "kernelspec": {
   "display_name": "Python 3 (ipykernel)",
   "language": "python",
   "name": "python3"
  },
  "language_info": {
   "codemirror_mode": {
    "name": "ipython",
    "version": 3
   },
   "file_extension": ".py",
   "mimetype": "text/x-python",
   "name": "python",
   "nbconvert_exporter": "python",
   "pygments_lexer": "ipython3",
   "version": "3.9.12"
  }
 },
 "nbformat": 4,
 "nbformat_minor": 5
}
