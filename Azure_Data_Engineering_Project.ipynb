{
 "cells": [
  {
   "cell_type": "code",
   "execution_count": 2,
   "id": "3fb5b7ca",
   "metadata": {},
   "outputs": [
    {
     "name": "stdout",
     "output_type": "stream",
     "text": [
      "Collecting azure-storage-blob\n",
      "  Downloading azure_storage_blob-12.19.1-py3-none-any.whl.metadata (26 kB)\n",
      "Collecting azure-core<2.0.0,>=1.28.0 (from azure-storage-blob)\n",
      "  Downloading azure_core-1.30.1-py3-none-any.whl.metadata (37 kB)\n",
      "Requirement already satisfied: cryptography>=2.1.4 in c:\\users\\dhiraj\\anaconda3\\lib\\site-packages (from azure-storage-blob) (3.4.8)\n",
      "Collecting typing-extensions>=4.3.0 (from azure-storage-blob)\n",
      "  Downloading typing_extensions-4.11.0-py3-none-any.whl.metadata (3.0 kB)\n",
      "Collecting isodate>=0.6.1 (from azure-storage-blob)\n",
      "  Downloading isodate-0.6.1-py2.py3-none-any.whl.metadata (9.6 kB)\n",
      "Requirement already satisfied: requests>=2.21.0 in c:\\users\\dhiraj\\anaconda3\\lib\\site-packages (from azure-core<2.0.0,>=1.28.0->azure-storage-blob) (2.27.1)\n",
      "Requirement already satisfied: six>=1.11.0 in c:\\users\\dhiraj\\anaconda3\\lib\\site-packages (from azure-core<2.0.0,>=1.28.0->azure-storage-blob) (1.16.0)\n",
      "Requirement already satisfied: cffi>=1.12 in c:\\users\\dhiraj\\anaconda3\\lib\\site-packages (from cryptography>=2.1.4->azure-storage-blob) (1.15.0)\n",
      "Requirement already satisfied: pycparser in c:\\users\\dhiraj\\anaconda3\\lib\\site-packages (from cffi>=1.12->cryptography>=2.1.4->azure-storage-blob) (2.21)\n",
      "Requirement already satisfied: urllib3<1.27,>=1.21.1 in c:\\users\\dhiraj\\anaconda3\\lib\\site-packages (from requests>=2.21.0->azure-core<2.0.0,>=1.28.0->azure-storage-blob) (1.26.9)\n",
      "Requirement already satisfied: certifi>=2017.4.17 in c:\\users\\dhiraj\\anaconda3\\lib\\site-packages (from requests>=2.21.0->azure-core<2.0.0,>=1.28.0->azure-storage-blob) (2021.10.8)\n",
      "Requirement already satisfied: charset-normalizer~=2.0.0 in c:\\users\\dhiraj\\anaconda3\\lib\\site-packages (from requests>=2.21.0->azure-core<2.0.0,>=1.28.0->azure-storage-blob) (2.0.4)\n",
      "Requirement already satisfied: idna<4,>=2.5 in c:\\users\\dhiraj\\anaconda3\\lib\\site-packages (from requests>=2.21.0->azure-core<2.0.0,>=1.28.0->azure-storage-blob) (3.3)\n",
      "Downloading azure_storage_blob-12.19.1-py3-none-any.whl (394 kB)\n",
      "   ---------------------------------------- 394.5/394.5 kB 8.2 MB/s eta 0:00:00\n",
      "Downloading azure_core-1.30.1-py3-none-any.whl (193 kB)\n",
      "   --------------------------------------- 193.4/193.4 kB 11.4 MB/s eta 0:00:00\n",
      "Downloading isodate-0.6.1-py2.py3-none-any.whl (41 kB)\n",
      "   ---------------------------------------- 41.7/41.7 kB ? eta 0:00:00\n",
      "Downloading typing_extensions-4.11.0-py3-none-any.whl (34 kB)\n",
      "Installing collected packages: typing-extensions, isodate, azure-core, azure-storage-blob\n",
      "  Attempting uninstall: typing-extensions\n",
      "    Found existing installation: typing_extensions 4.1.1\n",
      "    Uninstalling typing_extensions-4.1.1:\n",
      "      Successfully uninstalled typing_extensions-4.1.1\n",
      "Successfully installed azure-core-1.30.1 azure-storage-blob-12.19.1 isodate-0.6.1 typing-extensions-4.11.0\n",
      "Note: you may need to restart the kernel to use updated packages.\n"
     ]
    }
   ],
   "source": [
    "pip install azure-storage-blob"
   ]
  },
  {
   "cell_type": "code",
   "execution_count": 1,
   "id": "cdadf25f",
   "metadata": {},
   "outputs": [],
   "source": [
    "# Load the details required to connect to Azure Blob Storage\n",
    "\n",
    "import configparser\n",
    "config = configparser.ConfigParser()\n",
    "config.read_file(open('config_file.config'))\n",
    "storage_account_key=config.get(\"AZURE\",\"storage_account_key\")\n",
    "storage_account_name=config.get(\"AZURE\",\"storage_account_name\")\n",
    "connection_string=config.get(\"AZURE\",\"connection_string\")\n",
    "container_name=config.get(\"AZURE\",\"container_name\")"
   ]
  },
  {
   "cell_type": "code",
   "execution_count": 4,
   "id": "91be3c5d",
   "metadata": {},
   "outputs": [
    {
     "name": "stdout",
     "output_type": "stream",
     "text": [
      "Uploaded raw_data\\olist_geolocation_dataset successfully\n"
     ]
    }
   ],
   "source": [
    "from azure.storage.blob import BlobServiceClient\n",
    "\n",
    "def uploadToBlobStorage(file_path,file_name):\n",
    "    blob_service_client=BlobServiceClient.from_connection_string(connection_string)\n",
    "    blob_client=blob_service_client.get_blob_client(container=container_name, blob=file_name)\n",
    "    \n",
    "    with open(file_path,\"rb\") as data:\n",
    "            blob_client.upload_blob(data)\n",
    "    print(\"Uploaded \"+file_name+\" successfully\")\n",
    "    \n",
    "uploadToBlobStorage(\"C:\\\\Users\\\\Dhiraj\\\\Downloads\\\\My Projects\\\\Azure and Databricks\\\\Datasets\\\\Brazilian E-Commerce Public Dataset by Olist\\\\archive (2)\\\\olist_geolocation_dataset.csv\",\"raw_data\\\\olist_geolocation_dataset\")"
   ]
  },
  {
   "cell_type": "code",
   "execution_count": 5,
   "id": "5eb1f1ee",
   "metadata": {},
   "outputs": [
    {
     "name": "stdout",
     "output_type": "stream",
     "text": [
      "Uploaded raw_data\\olist_order_items_dataset successfully\n",
      "Uploaded raw_data\\olist_order_payments_dataset successfully\n",
      "Uploaded raw_data\\olist_order_reviews_dataset successfully\n",
      "Uploaded raw_data\\olist_orders_dataset successfully\n",
      "Uploaded raw_data\\olist_products_dataset successfully\n",
      "Uploaded raw_data\\olist_sellers_dataset successfully\n",
      "Uploaded raw_data\\product_category_name_translation successfully\n",
      "Uploaded raw_data\\olist_customers_dataset successfully\n"
     ]
    }
   ],
   "source": [
    "uploadToBlobStorage(\"C:\\\\Users\\\\Dhiraj\\\\Downloads\\\\My Projects\\\\Azure and Databricks\\\\Datasets\\\\Brazilian E-Commerce Public Dataset by Olist\\\\archive (2)\\\\olist_order_items_dataset.csv\",\"raw_data\\\\olist_order_items_dataset\")\n",
    "uploadToBlobStorage(\"C:\\\\Users\\\\Dhiraj\\\\Downloads\\\\My Projects\\\\Azure and Databricks\\\\Datasets\\\\Brazilian E-Commerce Public Dataset by Olist\\\\archive (2)\\\\olist_order_payments_dataset.csv\",\"raw_data\\\\olist_order_payments_dataset\")\n",
    "uploadToBlobStorage(\"C:\\\\Users\\\\Dhiraj\\\\Downloads\\\\My Projects\\\\Azure and Databricks\\\\Datasets\\\\Brazilian E-Commerce Public Dataset by Olist\\\\archive (2)\\\\olist_order_reviews_dataset.csv\",\"raw_data\\\\olist_order_reviews_dataset\")\n",
    "uploadToBlobStorage(\"C:\\\\Users\\\\Dhiraj\\\\Downloads\\\\My Projects\\\\Azure and Databricks\\\\Datasets\\\\Brazilian E-Commerce Public Dataset by Olist\\\\archive (2)\\\\olist_orders_dataset.csv\",\"raw_data\\\\olist_orders_dataset\")\n",
    "uploadToBlobStorage(\"C:\\\\Users\\\\Dhiraj\\\\Downloads\\\\My Projects\\\\Azure and Databricks\\\\Datasets\\\\Brazilian E-Commerce Public Dataset by Olist\\\\archive (2)\\\\olist_products_dataset.csv\",\"raw_data\\\\olist_products_dataset\")\n",
    "uploadToBlobStorage(\"C:\\\\Users\\\\Dhiraj\\\\Downloads\\\\My Projects\\\\Azure and Databricks\\\\Datasets\\\\Brazilian E-Commerce Public Dataset by Olist\\\\archive (2)\\\\olist_sellers_dataset.csv\",\"raw_data\\\\olist_sellers_dataset\")\n",
    "uploadToBlobStorage(\"C:\\\\Users\\\\Dhiraj\\\\Downloads\\\\My Projects\\\\Azure and Databricks\\\\Datasets\\\\Brazilian E-Commerce Public Dataset by Olist\\\\archive (2)\\\\product_category_name_translation.csv\",\"raw_data\\\\product_category_name_translation\")\n",
    "uploadToBlobStorage(\"C:\\\\Users\\\\Dhiraj\\\\Downloads\\\\My Projects\\\\Azure and Databricks\\\\Datasets\\\\Brazilian E-Commerce Public Dataset by Olist\\\\archive (2)\\\\olist_customers_dataset.csv\",\"raw_data\\\\olist_customers_dataset\")"
   ]
  },
  {
   "cell_type": "code",
   "execution_count": 3,
   "id": "e7d8ca1c",
   "metadata": {},
   "outputs": [
    {
     "name": "stdout",
     "output_type": "stream",
     "text": [
      "Uploaded raw_data\\olist_order_reviews_dataset successfully\n"
     ]
    }
   ],
   "source": [
    "from azure.storage.blob import BlobServiceClient\n",
    "\n",
    "def uploadToBlobStorage(file_path,file_name):\n",
    "    blob_service_client=BlobServiceClient.from_connection_string(connection_string)\n",
    "    blob_client=blob_service_client.get_blob_client(container=container_name, blob=file_name)\n",
    "    \n",
    "    with open(file_path,\"rb\") as data:\n",
    "            blob_client.upload_blob(data)\n",
    "    print(\"Uploaded \"+file_name+\" successfully\")\n",
    "    \n",
    "uploadToBlobStorage(\"C:\\\\Users\\\\Dhiraj\\\\Downloads\\\\My Projects\\\\Azure and Databricks\\\\Datasets\\\\Brazilian E-Commerce Public Dataset by Olist\\\\archive (2)\\\\olist_order_reviews_dataset.csv\",\"raw_data\\\\olist_order_reviews_dataset\")"
   ]
  }
 ],
 "metadata": {
  "kernelspec": {
   "display_name": "Python 3 (ipykernel)",
   "language": "python",
   "name": "python3"
  },
  "language_info": {
   "codemirror_mode": {
    "name": "ipython",
    "version": 3
   },
   "file_extension": ".py",
   "mimetype": "text/x-python",
   "name": "python",
   "nbconvert_exporter": "python",
   "pygments_lexer": "ipython3",
   "version": "3.9.12"
  }
 },
 "nbformat": 4,
 "nbformat_minor": 5
}
